{
 "cells": [
  {
   "cell_type": "markdown",
   "metadata": {
    "deletable": true,
    "editable": true
   },
   "source": [
    "### Reading images"
   ]
  },
  {
   "cell_type": "code",
   "execution_count": 1,
   "metadata": {
    "collapsed": true,
    "deletable": true,
    "editable": true
   },
   "outputs": [],
   "source": [
    "def read_image(prefix, source_path):\n",
    "    #print(source_path)\n",
    "    filename = source_path.split('/')[-1]\n",
    "    #print(filename)\n",
    "    filename = prefix + filename.split('\\\\')[-1]\n",
    "    #print(filename)\n",
    "    image = cv2.imread(filename)\n",
    "    return image"
   ]
  },
  {
   "cell_type": "code",
   "execution_count": 2,
   "metadata": {
    "collapsed": false,
    "deletable": true,
    "editable": true
   },
   "outputs": [],
   "source": [
    "import csv\n",
    "import cv2\n",
    "import numpy as np\n",
    "from tqdm import tqdm\n",
    "\n",
    "def read_dataset(prefix, images, measurements):\n",
    "\n",
    "    lines = []\n",
    "    with open( prefix + 'driving_log.csv') as csvfile:\n",
    "        reader = csv.reader(csvfile)\n",
    "        for line in reader:\n",
    "            lines.append(line)\n",
    "\n",
    "    #for line in lines:\n",
    "    for i in tqdm(range(0, len(lines), 1)):\n",
    "        steering_center = float(lines[i][3])\n",
    "        # create adjusted steering measurements for the side camera images\n",
    "        correction = 0.2 # this is a parameter to tune\n",
    "        steering_left = steering_center + correction\n",
    "        steering_right = steering_center - correction\n",
    "\n",
    "        # Center\n",
    "        images.append(read_image( prefix + 'IMG/', lines[i][0]))\n",
    "        measurements.append(steering_center)\n",
    "        # Left\n",
    "        images.append(read_image( prefix + 'IMG/', lines[i][1]))\n",
    "        measurements.append(steering_left)\n",
    "        # Right\n",
    "        images.append(read_image( prefix + 'IMG/', lines[i][2]))\n",
    "        measurements.append(steering_right)"
   ]
  },
  {
   "cell_type": "code",
   "execution_count": 3,
   "metadata": {
    "collapsed": false,
    "deletable": true,
    "editable": true
   },
   "outputs": [
    {
     "name": "stderr",
     "output_type": "stream",
     "text": [
      "100%|██████████| 8036/8036 [00:21<00:00, 374.15it/s]\n"
     ]
    }
   ],
   "source": [
    "lines = []\n",
    "images = []\n",
    "measurements = []\n",
    "\n",
    "# First dataset\n",
    "read_dataset(\"./data/\", images, measurements)\n",
    "\n",
    "# # Smooth driving\n",
    "# read_dataset(\"./smooth_driving/\", images, measurements)\n",
    "\n",
    "# #  Recovering\n",
    "# read_dataset(\"./recovering_driving_1/\", images, measurements)\n",
    "# read_dataset(\"./recovering_driving_2/\", images, measurements)\n",
    "# read_dataset(\"./recovering_driving_3/\", images, measurements)\n",
    "\n",
    "#  Reverse driving\n",
    "# read_dataset(\"./reverse_driving/\", images, measurements)"
   ]
  },
  {
   "cell_type": "markdown",
   "metadata": {
    "deletable": true,
    "editable": true
   },
   "source": [
    "### Image augmentation"
   ]
  },
  {
   "cell_type": "code",
   "execution_count": 4,
   "metadata": {
    "collapsed": false,
    "deletable": true,
    "editable": true,
    "scrolled": true
   },
   "outputs": [],
   "source": [
    "def image_augmentation(images, measurements):   \n",
    "    augmented_images, augmented_measurements = [], []\n",
    "    # for image, measurement in zip(images, measurements, len(images)):\n",
    "    for i in tqdm(range(0, len(images), 1)):\n",
    "        image = images[i]\n",
    "        measurement = measurements[i]\n",
    "        augmented_images.append(image)\n",
    "        augmented_measurements.append(measurement)\n",
    "        augmented_images.append(cv2.flip(image, flipCode=1))\n",
    "        augmented_measurements.append(measurement*-1.0)\n",
    "        \n",
    "    return augmented_images, augmented_measurements"
   ]
  },
  {
   "cell_type": "code",
   "execution_count": 5,
   "metadata": {
    "collapsed": false,
    "deletable": true,
    "editable": true
   },
   "outputs": [
    {
     "name": "stderr",
     "output_type": "stream",
     "text": [
      "100%|██████████| 24108/24108 [00:04<00:00, 5750.22it/s]\n"
     ]
    }
   ],
   "source": [
    "# from sklearn.utils import shuffle\n",
    "# images, measurements = shuffle(images, measurements, random_state=0)\n",
    "\n",
    "augmented_images, augmented_measurements = image_augmentation(images, measurements)\n",
    "\n",
    "X_train = np.array(augmented_images)\n",
    "y_train = np.array(augmented_measurements)"
   ]
  },
  {
   "cell_type": "markdown",
   "metadata": {
    "deletable": true,
    "editable": true
   },
   "source": [
    "### Model"
   ]
  },
  {
   "cell_type": "code",
   "execution_count": 6,
   "metadata": {
    "collapsed": false,
    "deletable": true,
    "editable": true,
    "scrolled": true
   },
   "outputs": [],
   "source": [
    "def getModel1():\n",
    "    \"\"\"\n",
    "    Creates nVidea Autonomous Car Group model\n",
    "    \"\"\"\n",
    "    from keras.models import Sequential\n",
    "    from keras.layers import Flatten, Dense, Lambda, Dropout\n",
    "    from keras.layers.convolutional import Conv2D\n",
    "    from keras.layers.pooling import MaxPooling2D\n",
    "    from keras.layers.convolutional import Cropping2D\n",
    "\n",
    "    model = Sequential()\n",
    "    # Normalize and mean centering the data \n",
    "    model.add(Lambda(lambda x: x/255.0 - 0.5, input_shape=(160,320,3)))\n",
    "    model.add(Cropping2D(cropping=((70,25), (0,0))))\n",
    "    model.add(Conv2D(24, (5, 5), strides=(2,2), activation = 'relu'))\n",
    "    model.add(Dropout(0.5))\n",
    "    model.add(Conv2D(48, (5, 5), strides=(2,2), activation = 'relu'))\n",
    "    model.add(Dropout(0.5))\n",
    "    model.add(Conv2D(64, (5, 5), strides=(2,2), activation = 'relu'))\n",
    "    model.add(Dropout(0.5))\n",
    "    model.add(Conv2D(96, (3, 3), activation = 'relu'))\n",
    "    model.add(Dropout(0.5))\n",
    "    model.add(Conv2D(128, (3, 3), activation = 'relu'))\n",
    "    model.add(Flatten())\n",
    "    model.add(Dense(512))\n",
    "    model.add(Dropout(0.5))\n",
    "    model.add(Dense(256))\n",
    "    model.add(Dropout(0.5))\n",
    "    model.add(Dense(128))\n",
    "    model.add(Dropout(0.5))\n",
    "    model.add(Dense(64))\n",
    "    model.add(Dropout(0.5))\n",
    "    model.add(Dense(32))\n",
    "    model.add(Dropout(0.5))\n",
    "    model.add(Dense(1))\n",
    "    model.compile(loss='mse', optimizer='adam')\n",
    "    \n",
    "    return model\n",
    "\n",
    "def getModel2():\n",
    "\n",
    "    \n",
    "    from keras.models import Sequential\n",
    "    from keras.layers import Flatten, Dense, Lambda, Dropout\n",
    "    from keras.layers.convolutional import Conv2D\n",
    "    from keras.layers.pooling import MaxPooling2D\n",
    "    from keras.layers.convolutional import Cropping2D\n",
    "\n",
    "    model = Sequential()\n",
    "    # Normalize and mean centering the data \n",
    "    model.add(Lambda(lambda x: x/255.0 - 0.5, input_shape=(160,320,3)))\n",
    "    model.add(Cropping2D(cropping=((70,25), (0,0))))\n",
    "    model.add(Conv2D(16, (3, 3), padding=\"same\", input_shape=(32,32,3), activation = 'relu') )\n",
    "    model.add(Conv2D(32, (3, 3), padding=\"same\", activation = 'relu'))\n",
    "    model.add(Conv2D(64, (3, 3), padding=\"same\", activation = 'relu'))\n",
    "    model.add(Conv2D(80, (3, 3), padding=\"same\", activation = 'relu'))\n",
    "    model.add(Conv2D(96, (3, 3), padding=\"same\", activation = 'relu'))\n",
    "    model.add(Flatten())\n",
    "    model.add(Dense(512))\n",
    "    model.add(Dropout(0.5))\n",
    "    model.add(Dense(512))\n",
    "    model.add(Dropout(0.5))\n",
    "    model.add(Dense(1))\n",
    "    model.compile(loss='mse', optimizer='adam')\n",
    "    \n",
    "    return model"
   ]
  },
  {
   "cell_type": "code",
   "execution_count": 7,
   "metadata": {
    "collapsed": true,
    "deletable": true,
    "editable": true
   },
   "outputs": [],
   "source": [
    "def drawTrainingLoss(history_object):\n",
    "    from keras.models import Model\n",
    "    import matplotlib.pyplot as plt\n",
    "\n",
    "    ### print the keys contained in the history object\n",
    "    print(history_object.history.keys())\n",
    "\n",
    "    ### plot the training and validation loss for each epoch\n",
    "    plt.plot(history_object.history['loss'])\n",
    "    plt.plot(history_object.history['val_loss'])\n",
    "    plt.title('model mean squared error loss')\n",
    "    plt.ylabel('mean squared error loss')\n",
    "    plt.xlabel('epoch')\n",
    "    plt.legend(['training set', 'validation set'], loc='upper right')\n",
    "    plt.show()"
   ]
  },
  {
   "cell_type": "code",
   "execution_count": 8,
   "metadata": {
    "collapsed": false,
    "deletable": true,
    "editable": true,
    "scrolled": false
   },
   "outputs": [
    {
     "name": "stderr",
     "output_type": "stream",
     "text": [
      "Using TensorFlow backend.\n"
     ]
    },
    {
     "name": "stdout",
     "output_type": "stream",
     "text": [
      "Train on 38572 samples, validate on 9644 samples\n",
      "Epoch 1/10\n",
      "236s - loss: 0.0375 - val_loss: 0.0251\n",
      "Epoch 2/10\n",
      "237s - loss: 0.0246 - val_loss: 0.0268\n",
      "Epoch 3/10\n",
      "236s - loss: 0.0227 - val_loss: 0.0254\n",
      "Epoch 4/10\n",
      "237s - loss: 0.0211 - val_loss: 0.0211\n",
      "Epoch 5/10\n",
      "237s - loss: 0.0199 - val_loss: 0.0231\n",
      "Epoch 6/10\n",
      "238s - loss: 0.0193 - val_loss: 0.0228\n",
      "Epoch 7/10\n",
      "237s - loss: 0.0192 - val_loss: 0.0225\n",
      "Epoch 8/10\n",
      "237s - loss: 0.0191 - val_loss: 0.0221\n",
      "Epoch 9/10\n",
      "237s - loss: 0.0190 - val_loss: 0.0206\n",
      "Epoch 10/10\n",
      "240s - loss: 0.0190 - val_loss: 0.0215\n"
     ]
    }
   ],
   "source": [
    "# Get network\n",
    "model = getModel1()\n",
    "# Training\n",
    "history_object = model.fit(X_train, y_train, validation_split=0.2, shuffle=True, epochs=10, verbose = 2, batch_size=64)"
   ]
  },
  {
   "cell_type": "code",
   "execution_count": 9,
   "metadata": {
    "collapsed": false,
    "deletable": true,
    "editable": true,
    "scrolled": true
   },
   "outputs": [
    {
     "name": "stdout",
     "output_type": "stream",
     "text": [
      "dict_keys(['val_loss', 'loss'])\n"
     ]
    },
    {
     "data": {
      "image/png": "[encoded data removed]",
      "text/plain": [
       "<matplotlib.figure.Figure at 0x7ff2136fb7f0>"
      ]
     },
     "metadata": {},
     "output_type": "display_data"
    }
   ],
   "source": [
    "# Save modehistory_objectsave('model.h5')\n",
    "drawTrainingLoss(history_object)"
   ]
  },
  {
   "cell_type": "code",
   "execution_count": 10,
   "metadata": {
    "collapsed": true,
    "deletable": true,
    "editable": true
   },
   "outputs": [],
   "source": [
    "model.save('model.h5')"
   ]
  }
 ],
 "metadata": {
  "kernelspec": {
   "display_name": "Python 3",
   "language": "python",
   "name": "python3"
  },
  "language_info": {
   "codemirror_mode": {
    "name": "ipython",
    "version": 3
   },
   "file_extension": ".py",
   "mimetype": "text/x-python",
   "name": "python",
   "nbconvert_exporter": "python",
   "pygments_lexer": "ipython3",
   "version": "3.5.2"
  }
 },
 "nbformat": 4,
 "nbformat_minor": 2
}

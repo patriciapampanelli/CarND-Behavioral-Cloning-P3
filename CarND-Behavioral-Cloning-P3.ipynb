{
 "cells": [
  {
   "cell_type": "markdown",
   "metadata": {
    "deletable": true,
    "editable": true
   },
   "source": [
    "### Reading images"
   ]
  },
  {
   "cell_type": "code",
   "execution_count": 1,
   "metadata": {
    "collapsed": true,
    "deletable": true,
    "editable": true
   },
   "outputs": [],
   "source": [
    "def read_image(prefix ,source_path):\n",
    "    #print(source_path)\n",
    "    filename = source_path.split('/')[-1]\n",
    "    #print(filename)\n",
    "    filename = prefix + filename.split('\\\\')[-1]\n",
    "    #print(filename)\n",
    "    image = cv2.imread(filename)\n",
    "    return image"
   ]
  },
  {
   "cell_type": "code",
   "execution_count": 6,
   "metadata": {
    "collapsed": false,
    "deletable": true,
    "editable": true
   },
   "outputs": [],
   "source": [
    "import csv\n",
    "import cv2\n",
    "import numpy as np\n",
    "from tqdm import tqdm\n",
    "\n",
    "def read_dataset(prefix, lines, images, measurements):\n",
    "\n",
    "    with open( prefix + 'driving_log.csv') as csvfile:\n",
    "        reader = csv.reader(csvfile)\n",
    "        for line in reader:\n",
    "            lines.append(line)\n",
    "\n",
    "    #for line in lines:\n",
    "    for i in tqdm(range(0, len(lines), 1)):\n",
    "        steering_center = float(lines[i][3])\n",
    "        # create adjusted steering measurements for the side camera images\n",
    "        correction = 0.2 # this is a parameter to tune\n",
    "        steering_left = steering_center + correction\n",
    "        steering_right = steering_center - correction\n",
    "\n",
    "        # Center\n",
    "        images.append(read_image( prefix + 'IMG/', lines[i][0]))\n",
    "        measurements.append(steering_center)\n",
    "        # Left\n",
    "        images.append(read_image( prefix + 'IMG/', lines[i][1]))\n",
    "        measurements.append(steering_left)\n",
    "        # Right\n",
    "        images.append(read_image( prefix + 'IMG/', lines[i][2]))\n",
    "        measurements.append(steering_right)"
   ]
  },
  {
   "cell_type": "code",
   "execution_count": 7,
   "metadata": {
    "collapsed": false
   },
   "outputs": [
    {
     "name": "stderr",
     "output_type": "stream",
     "text": [
      "100%|██████████| 8036/8036 [00:22<00:00, 360.83it/s]\n"
     ]
    }
   ],
   "source": [
    "lines = []\n",
    "images = []\n",
    "measurements = []\n",
    "\n",
    "# First dataset\n",
    "read_dataset(\"./data/\", lines, images, measurements)\n",
    "\n",
    "# Smooth driving\n"
   ]
  },
  {
   "cell_type": "markdown",
   "metadata": {
    "deletable": true,
    "editable": true
   },
   "source": [
    "### Image augmentation"
   ]
  },
  {
   "cell_type": "code",
   "execution_count": 8,
   "metadata": {
    "collapsed": false,
    "deletable": true,
    "editable": true,
    "scrolled": true
   },
   "outputs": [
    {
     "name": "stderr",
     "output_type": "stream",
     "text": [
      "100%|██████████| 24108/24108 [00:04<00:00, 5862.92it/s]\n"
     ]
    }
   ],
   "source": [
    "def image_augmentation(images, measurements):   \n",
    "    augmented_images, augmented_measurements = [], []\n",
    "    # for image, measurement in zip(images, measurements, len(images)):\n",
    "    for i in tqdm(range(0, len(images), 1)):\n",
    "        image = images[i]\n",
    "        measurement = measurements[i]\n",
    "        augmented_images.append(image)\n",
    "        augmented_measurements.append(measurement)\n",
    "        augmented_images.append(cv2.flip(image, flipCode=1))\n",
    "        augmented_measurements.append(measurement*-1.0)\n",
    "        \n",
    "    return augmented_images, augmented_measurements"
   ]
  },
  {
   "cell_type": "code",
   "execution_count": 13,
   "metadata": {
    "collapsed": false
   },
   "outputs": [
    {
     "ename": "NameError",
     "evalue": "name 'image_augmentation' is not defined",
     "output_type": "error",
     "traceback": [
      "\u001b[1;31m---------------------------------------------------------------------------\u001b[0m",
      "\u001b[1;31mNameError\u001b[0m                                 Traceback (most recent call last)",
      "\u001b[1;32m<ipython-input-13-0f161a925b32>\u001b[0m in \u001b[0;36m<module>\u001b[1;34m()\u001b[0m\n\u001b[1;32m----> 1\u001b[1;33m \u001b[0maugmented_images\u001b[0m\u001b[1;33m,\u001b[0m \u001b[0maugmented_measurements\u001b[0m \u001b[1;33m=\u001b[0m \u001b[0mimage_augmentation\u001b[0m\u001b[1;33m(\u001b[0m\u001b[0mimages\u001b[0m\u001b[1;33m,\u001b[0m \u001b[0mmeasurements\u001b[0m\u001b[1;33m)\u001b[0m\u001b[1;33m\u001b[0m\u001b[0m\n\u001b[0m",
      "\u001b[1;31mNameError\u001b[0m: name 'image_augmentation' is not defined"
     ]
    }
   ],
   "source": [
    "augmented_images, augmented_measurements = image_augmentation(images, measurements)\n",
    "\n",
    "X_train = np.array(augmented_images)\n",
    "y_train = np.array(augmented_measurements)"
   ]
  },
  {
   "cell_type": "markdown",
   "metadata": {
    "deletable": true,
    "editable": true
   },
   "source": [
    "### Model"
   ]
  },
  {
   "cell_type": "code",
   "execution_count": 11,
   "metadata": {
    "collapsed": false,
    "deletable": true,
    "editable": true,
    "scrolled": true
   },
   "outputs": [
    {
     "name": "stdout",
     "output_type": "stream",
     "text": [
      "Train on 38572 samples, validate on 9644 samples\n",
      "Epoch 1/10\n",
      "184s - loss: 0.0176 - val_loss: 0.0192\n",
      "Epoch 2/10\n",
      "185s - loss: 0.0148 - val_loss: 0.0215\n",
      "Epoch 3/10\n",
      "187s - loss: 0.0136 - val_loss: 0.0179\n",
      "Epoch 4/10\n",
      "187s - loss: 0.0126 - val_loss: 0.0192\n",
      "Epoch 5/10\n",
      "188s - loss: 0.0117 - val_loss: 0.0206\n",
      "Epoch 6/10\n",
      "190s - loss: 0.0109 - val_loss: 0.0198\n",
      "Epoch 7/10\n",
      "191s - loss: 0.0103 - val_loss: 0.0188\n",
      "Epoch 8/10\n",
      "190s - loss: 0.0094 - val_loss: 0.0195\n",
      "Epoch 9/10\n",
      "191s - loss: 0.0087 - val_loss: 0.0189\n",
      "Epoch 10/10\n",
      "191s - loss: 0.0081 - val_loss: 0.0181\n"
     ]
    }
   ],
   "source": [
    "from keras.models import Sequential\n",
    "from keras.layers import Flatten, Dense, Lambda\n",
    "from keras.layers.convolutional import Conv2D\n",
    "from keras.layers.pooling import MaxPooling2D\n",
    "from keras.layers.convolutional import Cropping2D\n",
    "\n",
    "model = Sequential()\n",
    "# Normalize and mean centering the data \n",
    "model.add(Lambda(lambda x: x/255.0 - 0.5, input_shape=(160,320,3)))\n",
    "model.add(Cropping2D(cropping=((70,25), (0,0))))\n",
    "model.add(Conv2D(24, (5, 5), strides=(2,2), activation = 'relu'))\n",
    "model.add(Conv2D(36, (5, 5), strides=(2,2), activation = 'relu'))\n",
    "model.add(Conv2D(48, (5, 5), strides=(2,2), activation = 'relu'))\n",
    "model.add(Conv2D(64, (3, 3), activation = 'relu'))\n",
    "model.add(Conv2D(64, (3, 3), activation = 'relu'))\n",
    "model.add(Flatten())\n",
    "model.add(Dense(100))\n",
    "model.add(Dense(50))\n",
    "model.add(Dense(10))\n",
    "model.add(Dense(1))\n",
    "model.compile(loss='mse', optimizer='adam')\n",
    "history_object = model.fit(X_train, y_train, validation_split=0.2, shuffle=True, epochs=10, verbose = 2)\n",
    "model.save('model.h5')"
   ]
  },
  {
   "cell_type": "markdown",
   "metadata": {
    "deletable": true,
    "editable": true
   },
   "source": [
    "### History"
   ]
  },
  {
   "cell_type": "code",
   "execution_count": 12,
   "metadata": {
    "collapsed": false,
    "deletable": true,
    "editable": true
   },
   "outputs": [
    {
     "name": "stdout",
     "output_type": "stream",
     "text": [
      "dict_keys(['loss', 'val_loss'])\n"
     ]
    },
    {
     "data": {
      "image/png": "[encoded data removed]",
      "text/plain": [
       "<matplotlib.figure.Figure at 0x7fb1855e7080>"
      ]
     },
     "metadata": {},
     "output_type": "display_data"
    }
   ],
   "source": [
    "from keras.models import Model\n",
    "import matplotlib.pyplot as plt\n",
    "\n",
    "### print the keys contained in the history object\n",
    "print(history_object.history.keys())\n",
    "\n",
    "### plot the training and validation loss for each epoch\n",
    "plt.plot(history_object.history['loss'])\n",
    "plt.plot(history_object.history['val_loss'])\n",
    "plt.title('model mean squared error loss')\n",
    "plt.ylabel('mean squared error loss')\n",
    "plt.xlabel('epoch')\n",
    "plt.legend(['training set', 'validation set'], loc='upper right')\n",
    "plt.show()"
   ]
  },
  {
   "cell_type": "code",
   "execution_count": null,
   "metadata": {
    "collapsed": true,
    "deletable": true,
    "editable": true
   },
   "outputs": [],
   "source": []
  }
 ],
 "metadata": {
  "kernelspec": {
   "display_name": "Python 3",
   "language": "python",
   "name": "python3"
  },
  "language_info": {
   "codemirror_mode": {
    "name": "ipython",
    "version": 3
   },
   "file_extension": ".py",
   "mimetype": "text/x-python",
   "name": "python",
   "nbconvert_exporter": "python",
   "pygments_lexer": "ipython3",
   "version": "3.5.2"
  }
 },
 "nbformat": 4,
 "nbformat_minor": 2
}
